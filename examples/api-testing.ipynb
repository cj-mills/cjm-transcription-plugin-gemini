{
 "cells": [
  {
   "cell_type": "code",
   "execution_count": 1,
   "id": "f964753a-10ab-42e8-b16a-2483df8ca51f",
   "metadata": {},
   "outputs": [],
   "source": [
    "from google import genai"
   ]
  },
  {
   "cell_type": "code",
   "execution_count": 2,
   "id": "d87801ae-29df-413c-afbf-9076a3ec73cd",
   "metadata": {},
   "outputs": [],
   "source": [
    "client = genai.Client()"
   ]
  },
  {
   "cell_type": "code",
   "execution_count": 3,
   "id": "595a6a5a-7460-4540-a6cd-7c3bc5d4f695",
   "metadata": {},
   "outputs": [
    {
     "data": {
      "text/plain": [
       "[Model(\n",
       "   description='Obtain a distributed representation of a text.',\n",
       "   display_name='Embedding Gecko',\n",
       "   input_token_limit=1024,\n",
       "   name='models/embedding-gecko-001',\n",
       "   output_token_limit=1,\n",
       "   supported_actions=[\n",
       "     'embedText',\n",
       "     'countTextTokens',\n",
       "   ],\n",
       "   tuned_model_info=TunedModelInfo(),\n",
       "   version='001'\n",
       " ),\n",
       " Model(\n",
       "   description='Alias that points to the most recent production (non-experimental) release of Gemini 1.5 Pro, our mid-size multimodal model that supports up to 2 million tokens.',\n",
       "   display_name='Gemini 1.5 Pro Latest',\n",
       "   input_token_limit=2000000,\n",
       "   name='models/gemini-1.5-pro-latest',\n",
       "   output_token_limit=8192,\n",
       "   supported_actions=[\n",
       "     'generateContent',\n",
       "     'countTokens',\n",
       "   ],\n",
       "   tuned_model_info=TunedModelInfo(),\n",
       "   version='001'\n",
       " )]"
      ]
     },
     "execution_count": 3,
     "metadata": {},
     "output_type": "execute_result"
    }
   ],
   "source": [
    "models_list = list(client.models.list())\n",
    "models_list[:2]"
   ]
  },
  {
   "cell_type": "code",
   "execution_count": 4,
   "id": "43ad28a1-9505-4a3e-8eab-a8867f2e7f1d",
   "metadata": {},
   "outputs": [
    {
     "data": {
      "text/plain": [
       "{'batchGenerateContent',\n",
       " 'bidiGenerateContent',\n",
       " 'countTextTokens',\n",
       " 'countTokens',\n",
       " 'createCachedContent',\n",
       " 'embedContent',\n",
       " 'embedText',\n",
       " 'generateAnswer',\n",
       " 'generateContent',\n",
       " 'predict',\n",
       " 'predictLongRunning'}"
      ]
     },
     "execution_count": 4,
     "metadata": {},
     "output_type": "execute_result"
    }
   ],
   "source": [
    "{action for model in models_list for action in model.supported_actions }"
   ]
  },
  {
   "cell_type": "code",
   "execution_count": 5,
   "id": "2531f4c6-3acd-40a1-b223-9eead60cb3fa",
   "metadata": {},
   "outputs": [
    {
     "name": "stdout",
     "output_type": "stream",
     "text": [
      "42\n"
     ]
    },
    {
     "data": {
      "text/plain": [
       "[Model(\n",
       "   description='Alias that points to the most recent production (non-experimental) release of Gemini 1.5 Pro, our mid-size multimodal model that supports up to 2 million tokens.',\n",
       "   display_name='Gemini 1.5 Pro Latest',\n",
       "   input_token_limit=2000000,\n",
       "   name='models/gemini-1.5-pro-latest',\n",
       "   output_token_limit=8192,\n",
       "   supported_actions=[\n",
       "     'generateContent',\n",
       "     'countTokens',\n",
       "   ],\n",
       "   tuned_model_info=TunedModelInfo(),\n",
       "   version='001'\n",
       " ),\n",
       " Model(\n",
       "   description='Stable version of Gemini 1.5 Pro, our mid-size multimodal model that supports up to 2 million tokens, released in September of 2024.',\n",
       "   display_name='Gemini 1.5 Pro 002',\n",
       "   input_token_limit=2000000,\n",
       "   name='models/gemini-1.5-pro-002',\n",
       "   output_token_limit=8192,\n",
       "   supported_actions=[\n",
       "     'generateContent',\n",
       "     'countTokens',\n",
       "     'createCachedContent',\n",
       "   ],\n",
       "   tuned_model_info=TunedModelInfo(),\n",
       "   version='002'\n",
       " )]"
      ]
     },
     "execution_count": 5,
     "metadata": {},
     "output_type": "execute_result"
    }
   ],
   "source": [
    "gen_models_list = [model for model in client.models.list() if 'generateContent' in model.supported_actions]\n",
    "print(len(gen_models_list))\n",
    "gen_models_list[:2]"
   ]
  },
  {
   "cell_type": "code",
   "execution_count": 6,
   "id": "00ac8736-5cb9-45fe-b382-c3cbfcf89ddd",
   "metadata": {},
   "outputs": [],
   "source": [
    "gen_models_dict = {model.name.removeprefix('models/'): model for model in gen_models_list}"
   ]
  },
  {
   "cell_type": "code",
   "execution_count": 7,
   "id": "6a3243d2-4661-4425-a53c-bf9159b2503a",
   "metadata": {},
   "outputs": [
    {
     "data": {
      "text/plain": [
       "['gemini-1.5-pro-latest',\n",
       " 'gemini-1.5-pro-002',\n",
       " 'gemini-1.5-pro',\n",
       " 'gemini-1.5-flash-latest',\n",
       " 'gemini-1.5-flash',\n",
       " 'gemini-1.5-flash-002',\n",
       " 'gemini-1.5-flash-8b',\n",
       " 'gemini-1.5-flash-8b-001',\n",
       " 'gemini-1.5-flash-8b-latest',\n",
       " 'gemini-2.5-pro-preview-03-25',\n",
       " 'gemini-2.5-flash-preview-05-20',\n",
       " 'gemini-2.5-flash',\n",
       " 'gemini-2.5-flash-lite-preview-06-17',\n",
       " 'gemini-2.5-pro-preview-05-06',\n",
       " 'gemini-2.5-pro-preview-06-05',\n",
       " 'gemini-2.5-pro',\n",
       " 'gemini-2.0-flash-exp',\n",
       " 'gemini-2.0-flash',\n",
       " 'gemini-2.0-flash-001',\n",
       " 'gemini-2.0-flash-exp-image-generation',\n",
       " 'gemini-2.0-flash-lite-001',\n",
       " 'gemini-2.0-flash-lite',\n",
       " 'gemini-2.0-flash-preview-image-generation',\n",
       " 'gemini-2.0-flash-lite-preview-02-05',\n",
       " 'gemini-2.0-flash-lite-preview',\n",
       " 'gemini-2.0-pro-exp',\n",
       " 'gemini-2.0-pro-exp-02-05',\n",
       " 'gemini-exp-1206',\n",
       " 'gemini-2.0-flash-thinking-exp-01-21',\n",
       " 'gemini-2.0-flash-thinking-exp',\n",
       " 'gemini-2.0-flash-thinking-exp-1219',\n",
       " 'gemini-2.5-flash-preview-tts',\n",
       " 'gemini-2.5-pro-preview-tts',\n",
       " 'learnlm-2.0-flash-experimental',\n",
       " 'gemma-3-1b-it',\n",
       " 'gemma-3-4b-it',\n",
       " 'gemma-3-12b-it',\n",
       " 'gemma-3-27b-it',\n",
       " 'gemma-3n-e4b-it',\n",
       " 'gemma-3n-e2b-it',\n",
       " 'gemini-2.5-flash-lite',\n",
       " 'gemini-2.5-flash-image-preview']"
      ]
     },
     "execution_count": 7,
     "metadata": {},
     "output_type": "execute_result"
    }
   ],
   "source": [
    "[model.name.removeprefix('models/') for model in gen_models_list]"
   ]
  },
  {
   "cell_type": "code",
   "execution_count": 8,
   "id": "f2d31832-5409-46f6-a9c5-f2dfa3ad9c6e",
   "metadata": {},
   "outputs": [
    {
     "data": {
      "text/plain": [
       "['gemini-2.5-flash-preview-05-20',\n",
       " 'gemini-2.5-flash-lite-preview-06-17',\n",
       " 'gemini-2.5-flash-lite',\n",
       " 'gemini-2.5-flash',\n",
       " 'gemini-2.0-flash-thinking-exp-1219',\n",
       " 'gemini-2.0-flash-thinking-exp-01-21',\n",
       " 'gemini-2.0-flash-thinking-exp',\n",
       " 'gemini-2.0-flash-lite-preview-02-05',\n",
       " 'gemini-2.0-flash-lite-preview',\n",
       " 'gemini-2.0-flash-lite-001',\n",
       " 'gemini-2.0-flash-lite',\n",
       " 'gemini-2.0-flash-exp',\n",
       " 'gemini-2.0-flash-001',\n",
       " 'gemini-2.0-flash',\n",
       " 'gemini-1.5-flash-latest',\n",
       " 'gemini-1.5-flash-8b-latest',\n",
       " 'gemini-1.5-flash-8b-001',\n",
       " 'gemini-1.5-flash-8b',\n",
       " 'gemini-1.5-flash-002',\n",
       " 'gemini-1.5-flash']"
      ]
     },
     "execution_count": 8,
     "metadata": {},
     "output_type": "execute_result"
    }
   ],
   "source": [
    "flash_names = [k for k in gen_models_dict\n",
    "               if 'flash' in k and not any(b in k for b in ('tts', 'image', 'learn'))]\n",
    "flash_names.sort(reverse=True)\n",
    "flash_names"
   ]
  },
  {
   "cell_type": "code",
   "execution_count": 9,
   "id": "93977b13-9adc-466e-980c-8b40b277f94e",
   "metadata": {},
   "outputs": [
    {
     "data": {
      "text/plain": [
       "['gemma-3n-e4b-it',\n",
       " 'gemma-3n-e2b-it',\n",
       " 'gemma-3-4b-it',\n",
       " 'gemma-3-27b-it',\n",
       " 'gemma-3-1b-it',\n",
       " 'gemma-3-12b-it',\n",
       " 'gemini-exp-1206',\n",
       " 'gemini-2.5-pro-preview-06-05',\n",
       " 'gemini-2.5-pro-preview-05-06',\n",
       " 'gemini-2.5-pro-preview-03-25',\n",
       " 'gemini-2.5-pro',\n",
       " 'gemini-2.5-flash-preview-05-20',\n",
       " 'gemini-2.5-flash-lite-preview-06-17',\n",
       " 'gemini-2.5-flash-lite',\n",
       " 'gemini-2.5-flash',\n",
       " 'gemini-2.0-pro-exp-02-05',\n",
       " 'gemini-2.0-pro-exp',\n",
       " 'gemini-2.0-flash-thinking-exp-1219',\n",
       " 'gemini-2.0-flash-thinking-exp-01-21',\n",
       " 'gemini-2.0-flash-thinking-exp',\n",
       " 'gemini-2.0-flash-lite-preview-02-05',\n",
       " 'gemini-2.0-flash-lite-preview',\n",
       " 'gemini-2.0-flash-lite-001',\n",
       " 'gemini-2.0-flash-lite',\n",
       " 'gemini-2.0-flash-exp',\n",
       " 'gemini-2.0-flash-001',\n",
       " 'gemini-2.0-flash',\n",
       " 'gemini-1.5-pro-latest',\n",
       " 'gemini-1.5-pro-002',\n",
       " 'gemini-1.5-pro',\n",
       " 'gemini-1.5-flash-latest',\n",
       " 'gemini-1.5-flash-8b-latest',\n",
       " 'gemini-1.5-flash-8b-001',\n",
       " 'gemini-1.5-flash-8b',\n",
       " 'gemini-1.5-flash-002',\n",
       " 'gemini-1.5-flash']"
      ]
     },
     "execution_count": 9,
     "metadata": {},
     "output_type": "execute_result"
    }
   ],
   "source": [
    "filtered_names = [k for k in gen_models_dict\n",
    "               if not any(b in k for b in ('tts', 'image', 'learn'))]\n",
    "filtered_names.sort(reverse=True)\n",
    "filtered_names"
   ]
  },
  {
   "cell_type": "code",
   "execution_count": 10,
   "id": "6a75e084-0919-4d7a-b578-80df879a1f4e",
   "metadata": {},
   "outputs": [
    {
     "data": {
      "text/plain": [
       "Model(\n",
       "  description='Stable version of Gemini 2.5 Flash, our mid-size multimodal model that supports up to 1 million tokens, released in June of 2025.',\n",
       "  display_name='Gemini 2.5 Flash',\n",
       "  input_token_limit=1048576,\n",
       "  name='models/gemini-2.5-flash',\n",
       "  output_token_limit=65536,\n",
       "  supported_actions=[\n",
       "    'generateContent',\n",
       "    'countTokens',\n",
       "    'createCachedContent',\n",
       "    'batchGenerateContent',\n",
       "  ],\n",
       "  tuned_model_info=TunedModelInfo(),\n",
       "  version='001'\n",
       ")"
      ]
     },
     "execution_count": 10,
     "metadata": {},
     "output_type": "execute_result"
    }
   ],
   "source": [
    "gen_models_dict['gemini-2.5-flash']"
   ]
  },
  {
   "cell_type": "code",
   "execution_count": 11,
   "id": "2ee4bbae-f837-4233-a614-035eae930f8d",
   "metadata": {},
   "outputs": [
    {
     "data": {
      "text/plain": [
       "Model(\n",
       "  description='Stable release (June 17th, 2025) of Gemini 2.5 Pro',\n",
       "  display_name='Gemini 2.5 Pro',\n",
       "  input_token_limit=1048576,\n",
       "  name='models/gemini-2.5-pro',\n",
       "  output_token_limit=65536,\n",
       "  supported_actions=[\n",
       "    'generateContent',\n",
       "    'countTokens',\n",
       "    'createCachedContent',\n",
       "    'batchGenerateContent',\n",
       "  ],\n",
       "  tuned_model_info=TunedModelInfo(),\n",
       "  version='2.5'\n",
       ")"
      ]
     },
     "execution_count": 11,
     "metadata": {},
     "output_type": "execute_result"
    }
   ],
   "source": [
    "gen_models_dict['gemini-2.5-pro']"
   ]
  },
  {
   "cell_type": "code",
   "execution_count": null,
   "id": "22b12632-4319-4507-a5a2-9be0ba45eb67",
   "metadata": {},
   "outputs": [],
   "source": []
  },
  {
   "cell_type": "code",
   "execution_count": null,
   "id": "aa0c20c2-4563-4d69-8ecc-8fbec63f704b",
   "metadata": {},
   "outputs": [],
   "source": []
  }
 ],
 "metadata": {
  "kernelspec": {
   "display_name": "Python 3 (ipykernel)",
   "language": "python",
   "name": "python3"
  },
  "language_info": {
   "codemirror_mode": {
    "name": "ipython",
    "version": 3
   },
   "file_extension": ".py",
   "mimetype": "text/x-python",
   "name": "python",
   "nbconvert_exporter": "python",
   "pygments_lexer": "ipython3",
   "version": "3.11.13"
  }
 },
 "nbformat": 4,
 "nbformat_minor": 5
}
